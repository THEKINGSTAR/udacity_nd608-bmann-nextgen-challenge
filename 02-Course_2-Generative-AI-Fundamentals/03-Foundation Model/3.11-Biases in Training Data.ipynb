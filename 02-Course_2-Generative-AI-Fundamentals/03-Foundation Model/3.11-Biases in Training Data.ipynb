{
 "cells": [
  {
   "cell_type": "markdown",
   "metadata": {},
   "source": [
    "# Biases in Training Data\n"
   ]
  },
  {
   "cell_type": "markdown",
   "metadata": {},
   "source": [
    "### Biases in training data deeply influence the outcomes of AI models, reflecting societal issues that require attention. Ways to approach this challenge include promoting diversity in development teams, seeking diverse data sources, and ensuring continued vigilance through bias detection and model monitoring.\n",
    "\n"
   ]
  },
  {
   "cell_type": "markdown",
   "metadata": {},
   "source": [
    "## Technical Terms Explained:\n"
   ]
  },
  {
   "cell_type": "markdown",
   "metadata": {},
   "source": [
    "```Selection Bias```: When the data used to train an AI model does not accurately represent the whole population or situation by virtue of the selection process, e.g. those choosing the data will tend to choose dataset their are aware of\n",
    "\n",
    "```Historical Bias```: Prejudices and societal inequalities of the past that are reflected in the data, influencing the AI in a way that perpetuates these outdated beliefs.\n",
    "\n",
    "```Confirmation Bias```: The tendency to favor information that confirms pre-existing beliefs, which can affect what data is selected for AI training.\n",
    "\n",
    "```Discriminatory Outcomes```: Unfair results produced by AI that disadvantage certain groups, often due to biases in the training data or malicious actors.\n",
    "\n",
    "```Echo Chambers```: Situations where biased AI reinforces and amplifies existing biases, leading to a narrow and distorted sphere of information.\n",
    "\n",
    "```Bias Detection and Correction```: Processes and algorithms designed to identify and remove biases from data before it's used to train AI models.\n",
    "\n",
    "```Transparency and Accountability```: Openness about how AI models are trained and the nature of their data, ensuring that developers are answerable for their AI's performance and impact."
   ]
  },
  {
   "cell_type": "markdown",
   "metadata": {},
   "source": []
  }
 ],
 "metadata": {
  "language_info": {
   "name": "python"
  }
 },
 "nbformat": 4,
 "nbformat_minor": 2
}
