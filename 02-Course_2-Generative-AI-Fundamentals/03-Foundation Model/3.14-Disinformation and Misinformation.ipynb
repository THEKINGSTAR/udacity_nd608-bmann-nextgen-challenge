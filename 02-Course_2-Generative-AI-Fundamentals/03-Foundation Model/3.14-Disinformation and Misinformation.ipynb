{
 "cells": [
  {
   "cell_type": "markdown",
   "metadata": {},
   "source": [
    "# **Disinformation and Misinformation**\n"
   ]
  },
  {
   "cell_type": "markdown",
   "metadata": {},
   "source": [
    "### In today's digital landscape, disinformation and misinformation pose significant risks, as foundation models like AI language generators have the potential to create and propagate false content. It's crucial to educate people about AI's capabilities and limitations to help them critically assess AI-generated material, fostering a community that is well-informed and resilient against these risks.\n",
    "\n"
   ]
  },
  {
   "cell_type": "markdown",
   "metadata": {},
   "source": [
    "## Technical terms explained:\n"
   ]
  },
  {
   "cell_type": "markdown",
   "metadata": {},
   "source": [
    "```Synthetic Voices```: These are computer-generated voices that are often indistinguishable from real human voices. AI models have been trained on samples of speech to produce these realistic voice outputs.\n",
    "\n",
    "```Content Provenance Tools```: Tools designed to track the origin and history of digital content. They help verify the authenticity of the content by providing information about its creation, modification, and distribution history."
   ]
  },
  {
   "cell_type": "markdown",
   "metadata": {},
   "source": []
  }
 ],
 "metadata": {
  "language_info": {
   "name": "python"
  }
 },
 "nbformat": 4,
 "nbformat_minor": 2
}
