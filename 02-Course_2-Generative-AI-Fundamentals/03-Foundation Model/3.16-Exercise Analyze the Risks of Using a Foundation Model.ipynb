{
 "cells": [
  {
   "cell_type": "markdown",
   "metadata": {},
   "source": [
    "# *```Exercise: Analyze the Risks of Using a Foundation Model```*\n"
   ]
  },
  {
   "cell_type": "markdown",
   "metadata": {},
   "source": [
    "### In today's digital age, the use of foundation models has become increasingly prevalent in various industries. However, it is crucial to analyze the risks associated with these models to ensure their ethical and responsible implementation. This analysis involves examining potential biases that may be embedded within the foundation models, the privacy concerns that arise from their usage, and the impact on labor and the environment. In this exercise, you will dive deeper into two topics of your choice, one suggested by a foundation model and another you come up with yourself.\n",
    "\n"
   ]
  },
  {
   "cell_type": "markdown",
   "metadata": {},
   "source": [
    "## Ask an LLM\n"
   ]
  },
  {
   "cell_type": "markdown",
   "metadata": {},
   "source": [
    "LLMs these days will gladly offer lists of risks that need to be kept in mind while using them. It is a relatively new technology, after all, and the creators of these LLMs want to get in front of any problems before they occur. Will they be successful? That's for you and the future to decide.\n",
    "\n"
   ]
  },
  {
   "cell_type": "markdown",
   "metadata": {},
   "source": [
    "## Let's write a prompt\n",
    "\n"
   ]
  },
  {
   "cell_type": "markdown",
   "metadata": {},
   "source": [
    "### Begin by writing a prompt (or prompts) that we will ask the LLM about the risks of using it. The prompt does not have to be long but it can be. You might reflect on what things are important to you and use this to help you craft your prompt.\n",
    "\n"
   ]
  },
  {
   "cell_type": "markdown",
   "metadata": {},
   "source": [
    "---\n",
    "---\n",
    "---"
   ]
  },
  {
   "cell_type": "markdown",
   "metadata": {},
   "source": [
    "## Choose one risk suggested by the LLM\n"
   ]
  },
  {
   "cell_type": "markdown",
   "metadata": {},
   "source": [
    "### Did the LLM suggest multiple risks? If not, try to reword your prompt so that it will return a list of risks. Then, when it does, choose one of the risks and use this opportunity to reflect on your choice.\n",
    "\n"
   ]
  },
  {
   "cell_type": "markdown",
   "metadata": {},
   "source": [
    "## Reflection"
   ]
  },
  {
   "cell_type": "markdown",
   "metadata": {},
   "source": [
    "### Why is this risk a concern for you? Why is this a risk for others you know? What are the potential consequences of this risk?\n",
    "\n"
   ]
  },
  {
   "cell_type": "markdown",
   "metadata": {},
   "source": [
    "## Choose a risk not suggested by the LLM\n"
   ]
  },
  {
   "cell_type": "markdown",
   "metadata": {},
   "source": [
    "### Is there a risk not listed by the LLM that you can think of? If so, please take this moment to reflect on it.\n",
    "\n"
   ]
  },
  {
   "cell_type": "markdown",
   "metadata": {},
   "source": [
    "## Reflection\n"
   ]
  },
  {
   "cell_type": "markdown",
   "metadata": {},
   "source": [
    "### Why is this risk a concern for you? Why do you think the LLM did not list this risk in its output?\n",
    "\n"
   ]
  },
  {
   "cell_type": "markdown",
   "metadata": {},
   "source": [
    "## Exercise End\n"
   ]
  },
  {
   "cell_type": "markdown",
   "metadata": {},
   "source": [
    "### Great work! Like any other powerful technology, we need to make sure we use it responsibly and in ways that align with our values. Understanding the risks is an important part to being able to make informed decisions about when and how to use Generative AI.\n",
    "\n"
   ]
  },
  {
   "cell_type": "markdown",
   "metadata": {},
   "source": []
  }
 ],
 "metadata": {
  "language_info": {
   "name": "python"
  }
 },
 "nbformat": 4,
 "nbformat_minor": 2
}
