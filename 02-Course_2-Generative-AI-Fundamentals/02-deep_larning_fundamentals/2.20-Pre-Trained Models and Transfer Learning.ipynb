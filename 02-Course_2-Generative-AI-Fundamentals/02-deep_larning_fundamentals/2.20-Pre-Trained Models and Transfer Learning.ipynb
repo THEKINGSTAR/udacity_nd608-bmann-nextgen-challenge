{
 "cells": [
  {
   "cell_type": "markdown",
   "metadata": {},
   "source": [
    "# Pre-Trained Models and Transfer Learning\n"
   ]
  },
  {
   "cell_type": "markdown",
   "metadata": {},
   "source": [
    "### By using pre-trained models and the magic of transfer learning, the hard work of training an AI model from zero can be bypassed, making it easier and quicker to get the job done. By leveraging the knowledge a model distills from a large dataset, we can reduce the amount of training needed to get a performant model."
   ]
  },
  {
   "cell_type": "markdown",
   "metadata": {},
   "source": [
    "## Examples:\n"
   ]
  },
  {
   "cell_type": "markdown",
   "metadata": {},
   "source": [
    "* If we wanted to create a plant identification app for mobile devices, we might use MobileNetV3(opens in a new tab) and train it on a dataset containing photos of different plant species.\n",
    "* If we wanted to create a social networking spam classifier, we might use BERT and train it on a dataset containing samples of spam and not-spam text."
   ]
  },
  {
   "cell_type": "markdown",
   "metadata": {},
   "source": [
    "## Technical Terms Explained:\n"
   ]
  },
  {
   "cell_type": "markdown",
   "metadata": {},
   "source": [
    "```Transfer learning```: The process where knowledge from a pre-trained model is applied to a new, but related task.\n",
    "\n"
   ]
  },
  {
   "cell_type": "markdown",
   "metadata": {},
   "source": []
  }
 ],
 "metadata": {
  "language_info": {
   "name": "python"
  }
 },
 "nbformat": 4,
 "nbformat_minor": 2
}
