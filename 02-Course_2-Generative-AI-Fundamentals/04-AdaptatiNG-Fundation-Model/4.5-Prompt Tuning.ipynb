{
 "cells": [
  {
   "cell_type": "markdown",
   "metadata": {},
   "source": [
    "# **```Prompt Tuning```**\n"
   ]
  },
  {
   "cell_type": "markdown",
   "metadata": {},
   "source": [
    "### Prompt tuning is a technique in generative AI which allows models to target specific tasks effectively. By crafting prompts, whether through a hands-on approach with hard prompts or through an automated process with soft prompts, we enhance the model's predictive capabilities.\n",
    "\n"
   ]
  },
  {
   "cell_type": "markdown",
   "metadata": {},
   "source": [
    "## ***```Technical Terms Defined:```***\n"
   ]
  },
  {
   "cell_type": "markdown",
   "metadata": {},
   "source": [
    "```Prompt```: In AI, a prompt is an input given to the model to generate a specific response or output.\n",
    "\n",
    "```Prompt Tuning```: This is a method to improve AI models by optimizing prompts so that the model produces better results for specific tasks.\n",
    "\n",
    "```Hard Prompt```: A manually created template used to guide an AI model's predictions. It requires human ingenuity to craft effective prompts.\n",
    "\n",
    "```Soft Prompt```: A series of tokens or embeddings optimized through deep learning to help guide model predictions, without necessarily making sense to humans."
   ]
  },
  {
   "cell_type": "markdown",
   "metadata": {},
   "source": []
  }
 ],
 "metadata": {
  "language_info": {
   "name": "python"
  }
 },
 "nbformat": 4,
 "nbformat_minor": 2
}
