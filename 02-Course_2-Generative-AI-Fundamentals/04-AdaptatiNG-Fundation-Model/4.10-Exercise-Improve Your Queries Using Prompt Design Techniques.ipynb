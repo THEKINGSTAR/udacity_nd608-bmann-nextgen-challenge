{
 "cells": [
  {
   "cell_type": "markdown",
   "metadata": {},
   "source": [
    "# **```Exercise: Improve Your Queries Using Prompt Design Techniques```**\n"
   ]
  },
  {
   "cell_type": "markdown",
   "metadata": {},
   "source": [
    "#### In this exercise, you will use different prompt design techniques to improve an LLM's performance on a computational reasoning task.\n",
    "\n"
   ]
  },
  {
   "cell_type": "markdown",
   "metadata": {},
   "source": [
    "### Our reasoning task will involve taking a list of words and combine their first letters into a new word. It will take one letter from the first word, two letters from the second word, and so on.\n",
    "\n"
   ]
  },
  {
   "cell_type": "markdown",
   "metadata": {},
   "source": [
    "## For example:\n",
    "\n"
   ]
  },
  {
   "cell_type": "markdown",
   "metadata": {},
   "source": [
    "```txt\n",
    "\n",
    "Q: backward removing postpone solution\n",
    "A: brepossolu\n",
    "\n",
    "Q: resolves devoting\n",
    "A: rde\n",
    "\n",
    "Q: trappers\n",
    "A: t\n",
    "\n",
    "```"
   ]
  },
  {
   "cell_type": "markdown",
   "metadata": {},
   "source": [
    "## ``Test for understanding``\n"
   ]
  },
  {
   "cell_type": "markdown",
   "metadata": {},
   "source": [
    "### Let's make sure we understand the task!\n",
    "\n"
   ]
  },
  {
   "cell_type": "markdown",
   "metadata": {},
   "source": [
    "Q: striking\n",
    "\n"
   ]
  },
  {
   "cell_type": "markdown",
   "metadata": {},
   "source": [
    "Q: scholars stirring vocalist\n",
    "\n"
   ]
  },
  {
   "cell_type": "markdown",
   "metadata": {},
   "source": [
    "Great work!\n",
    "\n"
   ]
  },
  {
   "cell_type": "markdown",
   "metadata": {},
   "source": [
    "### For the remainder of the exercise we will try to get the LLM to answer the following five questions correctly:\n",
    "\n"
   ]
  },
  {
   "cell_type": "markdown",
   "metadata": {},
   "source": [
    "```txt\n",
    "\n",
    "Q: striking \n",
    "Q: scholars stirring vocalist \n",
    "Q: forehead vocalist ancients mongolia \n",
    "Q: forehead identify stalwart balsamic unheeded \n",
    "Q: broadway unawares \n",
    "\n",
    "```"
   ]
  },
  {
   "cell_type": "markdown",
   "metadata": {},
   "source": [
    "The answers are as follows:\n",
    "\n"
   ]
  },
  {
   "cell_type": "markdown",
   "metadata": {},
   "source": [
    "```txt\n",
    "s\n",
    "sstvoc\n",
    "fvoancmong\n",
    "fidstabalsunhee\n",
    "bun\n",
    "\n",
    "```"
   ]
  },
  {
   "cell_type": "markdown",
   "metadata": {},
   "source": [
    "Let's start testing!\n",
    "\n"
   ]
  },
  {
   "cell_type": "markdown",
   "metadata": {},
   "source": [
    "## ```Test with a commercial LLM```\n"
   ]
  },
  {
   "cell_type": "markdown",
   "metadata": {},
   "source": [
    "### First, let's try asking a commercial LLM such as ChatGPT or Bard the following question:\n",
    "\n"
   ]
  },
  {
   "cell_type": "markdown",
   "metadata": {},
   "source": [
    "```txt\n",
    "\n",
    "Fill in the missing answers:\n",
    "\n",
    "Q: rumbling immortal laboring ancestor\n",
    "A: rimlabance\n",
    "\n",
    "Q: diagnose emitting shrivels harmless lunatics\n",
    "A: demshrharmlunat\n",
    "\n",
    "Q: meanings climates security literats\n",
    "A: mclseclite\n",
    "\n",
    "Q: striking\n",
    "A:\n",
    "\n",
    "Q: scholars stirring vocalist \n",
    "A:\n",
    "\n",
    "Q: forehead vocalist ancients mongolia \n",
    "A:\n",
    "\n",
    "Q: forehead identify stalwart balsamic unheeded \n",
    "A:\n",
    "\n",
    "Q: broadway unawares \n",
    "A:\n",
    "\n",
    "```"
   ]
  },
  {
   "cell_type": "markdown",
   "metadata": {},
   "source": [
    "### ```CHAT-GPT```\n",
    "```txt\n",
    "Here are the missing answers filled in based on patterns of abbreviation and combining initial letters:\n",
    "\n",
    "Q: rumbling immortal laboring ancestor\n",
    "A: rimlabance\n",
    "\n",
    "Q: diagnose emitting shrivels harmless lunatics\n",
    "A: demshrharmlunat\n",
    "\n",
    "Q: meanings climates security literats\n",
    "A: mclseclite\n",
    "\n",
    "Q: striking\n",
    "A: stki\n",
    "\n",
    "Q: scholars stirring vocalist\n",
    "A: schstivoc\n",
    "\n",
    "Q: forehead vocalist ancients mongolia\n",
    "A: forvocancmon\n",
    "\n",
    "Q: forehead identify stalwart balsamic unheeded\n",
    "A: foridstalbalunh\n",
    "\n",
    "Q: broadway unawares\n",
    "A: brodunaw\n",
    "\n",
    "```"
   ]
  },
  {
   "cell_type": "markdown",
   "metadata": {},
   "source": [
    "## ```In-context task description```\n",
    "### In-context learning refers to adding information in the prompt that can help the model complete a task. Let's try two examples:\n",
    "\n",
    "* A zero-shot prompt with a task description\n",
    "* A three-short prompt with a task description\n",
    "You can use the boxes below to draft your answers.\n",
    "\n",
    "### **Remember to start a new conversation with the LLM with each question so it can start afresh.**"
   ]
  },
  {
   "cell_type": "markdown",
   "metadata": {},
   "source": [
    "## Zero-shot prompt with a task description\n"
   ]
  },
  {
   "cell_type": "markdown",
   "metadata": {},
   "source": [
    "\n",
    "```\n",
    "Taking a list of words and combine their first letters into a new word. take one letter from the first word, two letters from the second word, and so on.\n",
    "\n",
    "\n",
    "\n",
    "```"
   ]
  },
  {
   "cell_type": "markdown",
   "metadata": {},
   "source": [
    "## Three-shot prompt with a task description\n"
   ]
  },
  {
   "cell_type": "markdown",
   "metadata": {},
   "source": [
    "```TXT\n",
    "\n",
    "Taking a list of words and combine their first letters into a new word. take one letter from the first word, two letters from the second word, and so on.\n",
    "\n",
    "\n",
    "Q: striking\n",
    "A:\n",
    "\n",
    "Q: scholars stirring vocalist \n",
    "A:\n",
    "\n",
    "Q: forehead vocalist ancients mongolia \n",
    "A:\n",
    "\n",
    "Q: forehead identify stalwart balsamic unheeded \n",
    "A:\n",
    "\n",
    "Q: broadway unawares \n",
    "A:\n",
    "\n",
    "```\n",
    "\n"
   ]
  },
  {
   "cell_type": "markdown",
   "metadata": {},
   "source": [
    "## **```Chain-of-Thoughts Prompting```**\n",
    "### Now let's try a chain-of-thoughts prompt. This time, we will skip the task description altogether.\n",
    "\n",
    "\n",
    "You can use the box below to draft your prompt."
   ]
  },
  {
   "cell_type": "markdown",
   "metadata": {},
   "source": [
    "## Three-shot Chain-of-Thoughts prompt with no task description\n"
   ]
  },
  {
   "cell_type": "markdown",
   "metadata": {},
   "source": [
    "```TXT\n",
    "\n",
    "Q: striking \n",
    "A:striking ->s\n",
    "\n",
    "Q: scholars stirring vocalist \n",
    "A:scholars->s\n",
    "stirring->st\n",
    "vocalist ->voc\n",
    "\n",
    "Q: forehead vocalist ancients mongolia \n",
    "A:forehead->f\n",
    "vocalist->vo\n",
    "ancients->anc\n",
    "mongolia->mong\n",
    "\n",
    "\n",
    "Q: forehead identify stalwart balsamic unheeded \n",
    "A:forehead->f\n",
    "identify->id\n",
    "stalwart->sta\n",
    "balsamic->bals\n",
    "unheeded->unhee\n",
    "\n",
    "Q: broadway unawares \n",
    "A:broadway->b\n",
    "unawares->un\n",
    "\n",
    "```"
   ]
  },
  {
   "cell_type": "markdown",
   "metadata": {},
   "source": [
    "# **```End of lesson```**\n"
   ]
  },
  {
   "cell_type": "markdown",
   "metadata": {},
   "source": [
    "### Great work! By the point you will have a good idea of what sorts of signals a large language model picks up on from your prompts.\n",
    "\n",
    "### Often, they are sensitive to small changes in what you provide. There are even situations in which too much information may confuse them.\n"
   ]
  },
  {
   "cell_type": "markdown",
   "metadata": {},
   "source": []
  }
 ],
 "metadata": {
  "language_info": {
   "name": "python"
  }
 },
 "nbformat": 4,
 "nbformat_minor": 2
}
