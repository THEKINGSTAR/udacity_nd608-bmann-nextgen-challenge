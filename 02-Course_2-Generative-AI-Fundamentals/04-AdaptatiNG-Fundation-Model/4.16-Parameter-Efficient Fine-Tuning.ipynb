{
 "cells": [
  {
   "cell_type": "markdown",
   "metadata": {},
   "source": [
    "# **```Parameter-Efficient Fine-Tuning```**\n"
   ]
  },
  {
   "cell_type": "markdown",
   "metadata": {},
   "source": [
    "### Parameter-efficient fine-tuning (PEFT) is a technique crucial for adapting large language models more efficiently, with the bonus of not requiring heavy computational power. This approach includes various strategies to update only a small set of parameters, thereby maintaining a balance between model adaptability and resource consumption. The techniques ensure that models can be swiftly deployed in different industrial contexts, considering both time constraints and the necessity for scaling operations efficiently.\n",
    "\n",
    "\n"
   ]
  },
  {
   "cell_type": "markdown",
   "metadata": {},
   "source": [
    "## ***```Technical Terms Explained```***:\n",
    "\n",
    "```Parameter-efficient fine-tuning```: A method of updating a predefined subset of a model's parameters to tailor it to specific tasks, without the need to modify the entire model, thus saving computational resources.\n",
    "\n",
    "```Frozen Parameters```: In the context of machine learning, this refers to model parameters that are not changed or updated during the process of training or fine-tuning.\n",
    "\n",
    "```Low-Rank Adaptation (LoRA)```: A technique where a large matrix is approximated using two smaller matrices, greatly reducing the number of parameters that need to be trained during fine-tuning.\n",
    "\n",
    "```Adapters```: Additional model components inserted at various layers; only the parameters of these adapters are trained, not of the entire model."
   ]
  },
  {
   "cell_type": "markdown",
   "metadata": {},
   "source": []
  }
 ],
 "metadata": {
  "language_info": {
   "name": "python"
  }
 },
 "nbformat": 4,
 "nbformat_minor": 2
}
